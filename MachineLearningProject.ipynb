{
  "cells": [
    {
      "cell_type": "markdown",
      "metadata": {
        "id": "c2q6QVJ5bQE_"
      },
      "source": [
        "# Machine Learning Project\n"
      ]
    },
    {
      "cell_type": "markdown",
      "metadata": {},
      "source": [
        "### Imports"
      ]
    },
    {
      "cell_type": "code",
      "execution_count": 19,
      "metadata": {
        "id": "WFXSnl7WbQFU"
      },
      "outputs": [],
      "source": [
        "import numpy as np\n",
        "import pandas as pd\n",
        "import matplotlib.pyplot as plt"
      ]
    },
    {
      "cell_type": "markdown",
      "metadata": {
        "id": "zPBUBxvobQFY"
      },
      "source": [
        "### Training and Testing Sets"
      ]
    },
    {
      "cell_type": "code",
      "execution_count": 20,
      "metadata": {
        "id": "j3fpZyqMbQFa"
      },
      "outputs": [],
      "source": [
        "df = pd.read_excel(r'./titanicData.xlsx')\n",
        "dfX = df.drop(columns=['Sex', 'Siblings', 'Fare', 'Embarked', 'Survived'])\n",
        "sy = df.Survived"
      ]
    },
    {
      "cell_type": "code",
      "execution_count": 21,
      "metadata": {
        "id": "Aeiw6yWobQFb"
      },
      "outputs": [],
      "source": [
        "from sklearn.model_selection import train_test_split\n",
        "dfX_train, dfX_test, sy_train, sy_test = train_test_split(dfX, sy)"
      ]
    },
    {
      "cell_type": "markdown",
      "metadata": {
        "id": "R3H-DxVfbQFd"
      },
      "source": [
        "### Data Preprocessing"
      ]
    },
    {
      "cell_type": "code",
      "execution_count": 22,
      "metadata": {
        "id": "FvAPP5EMbQFf"
      },
      "outputs": [],
      "source": [
        "from sklearn import preprocessing\n",
        "le = preprocessing.LabelEncoder()\n",
        "le = le.fit(sy_train)\n",
        "le.classes_\n",
        "y_train = le.transform(sy_train.to_numpy())"
      ]
    },
    {
      "cell_type": "markdown",
      "metadata": {
        "id": "MtNmXLWibQFh"
      },
      "source": [
        "### MinMaxScaler()"
      ]
    },
    {
      "cell_type": "code",
      "execution_count": 23,
      "metadata": {
        "id": "2bsL_ZYabQFi"
      },
      "outputs": [],
      "source": [
        "nl = preprocessing.MinMaxScaler()\n",
        "nl = nl.fit(dfX_train.to_numpy())\n",
        "X_train = nl.transform(dfX_train.to_numpy())"
      ]
    },
    {
      "cell_type": "code",
      "execution_count": 24,
      "metadata": {
        "id": "K6hSslmRbQFj",
        "outputId": "a220e334-eb84-47fd-f2e3-24ab76d1fd6a"
      },
      "outputs": [
        {
          "data": {
            "text/plain": [
              "(186, 2)"
            ]
          },
          "execution_count": 24,
          "metadata": {},
          "output_type": "execute_result"
        }
      ],
      "source": [
        "X_train.shape"
      ]
    },
    {
      "cell_type": "markdown",
      "metadata": {
        "id": "QFHhFX95bQFm"
      },
      "source": [
        "### KNN Classifier"
      ]
    },
    {
      "cell_type": "code",
      "execution_count": 25,
      "metadata": {
        "id": "rSDaOq8kbQFm",
        "outputId": "5f5efe60-a2cc-4492-aaf5-ea066569e839"
      },
      "outputs": [
        {
          "name": "stdout",
          "output_type": "stream",
          "text": [
            "KNeighborsClassifier(n_neighbors=1)\n"
          ]
        }
      ],
      "source": [
        "from sklearn.neighbors import KNeighborsClassifier\n",
        "knn = KNeighborsClassifier(n_neighbors=1)\n",
        "knn = knn.fit(X_train, y_train)\n",
        "print(knn)"
      ]
    },
    {
      "cell_type": "markdown",
      "metadata": {
        "id": "TniQ7sEHbQFn"
      },
      "source": [
        "### Evaluation of the model"
      ]
    },
    {
      "cell_type": "code",
      "execution_count": 26,
      "metadata": {
        "id": "kB7sIBk5bQFo",
        "outputId": "ec576cb7-c695-41f8-b676-b7354109bb55",
        "scrolled": false
      },
      "outputs": [
        {
          "name": "stdout",
          "output_type": "stream",
          "text": [
            "[0 0 1 0 0 0 1 1 0 0 0 0 0 1 0 1 1 0 1 0 0 1 1 0 1 1 1 0 0 0 1 1 1 0 1 0 0\n",
            " 0 0 1 1 0 1 0 0 1 1 0 0 1 1 1 0 0 1 0 0 0 1 0 0 0 1]\n",
            "[0 1 0 0 0 0 0 1 0 0 0 0 0 1 1 0 0 0 0 0 1 0 0 1 0 0 0 1 0 0 0 0 0 1 0 1 0\n",
            " 0 1 1 0 0 1 1 0 0 1 0 1 0 1 1 1 1 1 0 1 0 0 0 1 1 0]\n"
          ]
        }
      ],
      "source": [
        "y_test = le.transform(sy_test.to_numpy())\n",
        "X_test = nl.transform(dfX_test.to_numpy())\n",
        "print(knn.predict(X_test))\n",
        "print(y_test)"
      ]
    },
    {
      "cell_type": "markdown",
      "metadata": {
        "id": "PHUOz53ZbQFq"
      },
      "source": [
        "### k values from 1 to 14"
      ]
    },
    {
      "cell_type": "code",
      "execution_count": 27,
      "metadata": {
        "id": "dZFNnvtFbQFr",
        "outputId": "ee6fec18-b219-4384-9465-fa04cca6c64a"
      },
      "outputs": [
        {
          "name": "stdout",
          "output_type": "stream",
          "text": [
            "     K  Test Score  Train Score\n",
            "0    1    0.460317     0.801075\n",
            "1    2    0.634921     0.725806\n",
            "2    3    0.523810     0.736559\n",
            "3    4    0.619048     0.693548\n",
            "4    5    0.555556     0.698925\n",
            "5    6    0.555556     0.698925\n",
            "6    7    0.555556     0.666667\n",
            "7    8    0.571429     0.650538\n",
            "8    9    0.555556     0.661290\n",
            "9   10    0.587302     0.655914\n",
            "10  11    0.555556     0.650538\n",
            "11  12    0.587302     0.629032\n",
            "12  13    0.587302     0.623656\n",
            "13  14    0.587302     0.618280\n"
          ]
        }
      ],
      "source": [
        "dfX_train, dfX_test, sy_train, sy_test = train_test_split(dfX, sy, test_size=0.25, random_state=42)\n",
        "data = []\n",
        "for i in range(1,15,1):\n",
        "    knn = KNeighborsClassifier(n_neighbors=i)\n",
        "    knn.fit(X_train, y_train)\n",
        "    test_score = knn.score(X_test, y_test)\n",
        "    train_score = knn.score(X_train,y_train)\n",
        "    data.append((i, test_score ,train_score))\n",
        "df = pd.DataFrame(data, columns=['K','Test Score','Train Score'])\n",
        "print(df)"
      ]
    },
    {
      "cell_type": "markdown",
      "metadata": {},
      "source": [
        "### Plotting the data"
      ]
    },
    {
      "cell_type": "code",
      "execution_count": 28,
      "metadata": {
        "id": "uhqwDfTjbQFs",
        "outputId": "6dfc28ed-7490-4827-a492-a37a13d00312"
      },
      "outputs": [
        {
          "data": {
            "image/png": "[encoded data removed]",
            "text/plain": [
              "<Figure size 432x288 with 2 Axes>"
            ]
          },
          "metadata": {
            "needs_background": "light"
          },
          "output_type": "display_data"
        }
      ],
      "source": [
        "fig,ax = plt.subplots()\n",
        "\n",
        "ax.plot(df.iloc[:,0], df.iloc[:,1], color=\"red\")\n",
        "\n",
        "ax.set_xlabel(\"K\", fontsize = 14)\n",
        "\n",
        "ax.set_ylabel(\"Model Accuracy for Test Data Set\", color=\"red\", fontsize=14)\n",
        "\n",
        "ax2=ax.twinx()\n",
        "\n",
        "ax2.plot(df.iloc[:,0], df.iloc[:,2],color=\"blue\")\n",
        "ax2.set_ylabel(\"Model Accuracy for Train Data Set\", color=\"blue\", fontsize=14)\n",
        "plt.show()"
      ]
    },
    {
      "cell_type": "markdown",
      "metadata": {
        "id": "lM01cXcTbQFt"
      },
      "source": [
        "### Using standard scalar"
      ]
    },
    {
      "cell_type": "code",
      "execution_count": 29,
      "metadata": {
        "id": "wlDbsM36bQFu"
      },
      "outputs": [],
      "source": [
        "stand = preprocessing.StandardScaler()\n",
        "standfitted = stand.fit(dfX_train.to_numpy())\n",
        "X_train = standfitted.transform(dfX_train.to_numpy())"
      ]
    },
    {
      "cell_type": "markdown",
      "metadata": {},
      "source": [
        "### Training the model"
      ]
    },
    {
      "cell_type": "code",
      "execution_count": 30,
      "metadata": {
        "id": "bwSSBaG4bQFv",
        "outputId": "5b39d65f-2239-45cf-b8c3-9a62ac437f36"
      },
      "outputs": [
        {
          "name": "stdout",
          "output_type": "stream",
          "text": [
            "     K  Test Score  Train Score\n",
            "0    1    0.444444     0.763441\n",
            "1    2    0.571429     0.698925\n",
            "2    3    0.444444     0.704301\n",
            "3    4    0.460317     0.655914\n",
            "4    5    0.444444     0.661290\n",
            "5    6    0.507937     0.677419\n",
            "6    7    0.412698     0.693548\n",
            "7    8    0.380952     0.655914\n",
            "8    9    0.380952     0.682796\n",
            "9   10    0.380952     0.677419\n",
            "10  11    0.380952     0.688172\n",
            "11  12    0.396825     0.655914\n",
            "12  13    0.412698     0.661290\n",
            "13  14    0.428571     0.661290\n"
          ]
        }
      ],
      "source": [
        "dfX_train, dfX_test, sy_train, sy_test = train_test_split(dfX, sy, test_size=0.25, random_state=42)\n",
        "data = []\n",
        "for i in range(1,15,1):\n",
        "    knn = KNeighborsClassifier(n_neighbors=i)\n",
        "    knn.fit(X_train, y_train)\n",
        "    test_score = knn.score(X_test, y_test)\n",
        "    train_score = knn.score(X_train, y_train)\n",
        "    data.append((i, test_score ,train_score))\n",
        "df = pd.DataFrame(data, columns=['K','Test Score','Train Score'])\n",
        "print(df)"
      ]
    },
    {
      "cell_type": "code",
      "execution_count": 31,
      "metadata": {
        "colab": {
          "base_uri": "https://localhost:8080/",
          "height": 487
        },
        "id": "Yw0SoFUnbQFw",
        "outputId": "3f9b2598-666c-46ff-9216-1cbaa38f1f98"
      },
      "outputs": [
        {
          "data": {
            "image/png": "[encoded data removed]",
            "text/plain": [
              "<Figure size 432x288 with 2 Axes>"
            ]
          },
          "metadata": {
            "needs_background": "light"
          },
          "output_type": "display_data"
        }
      ],
      "source": [
        "fig,ax = plt.subplots()\n",
        "\n",
        "ax.plot(df.iloc[:,0], df.iloc[:,1], color=\"red\")\n",
        "\n",
        "ax.set_xlabel(\"K\", fontsize = 14)\n",
        "\n",
        "ax.set_ylabel(\"Model Accuracy for Test Data Set\", color=\"red\", fontsize=14)\n",
        "\n",
        "ax2=ax.twinx()\n",
        "\n",
        "ax2.plot(df.iloc[:,0], df.iloc[:,2],color=\"blue\")\n",
        "ax2.set_ylabel(\"Model Accuracy for Train Data Set\", color=\"blue\", fontsize=14)\n",
        "plt.show()"
      ]
    },
    {
      "cell_type": "markdown",
      "metadata": {
        "id": "HyYsNeuYbQFx"
      },
      "source": [
        "### Building The Model"
      ]
    },
    {
      "cell_type": "code",
      "execution_count": 32,
      "metadata": {
        "id": "fAoaV20EbQFx",
        "outputId": "e3f911ed-d0a6-48c4-c9f4-50f1a8dd58e0"
      },
      "outputs": [
        {
          "data": {
            "text/plain": [
              "(186, 2)"
            ]
          },
          "execution_count": 32,
          "metadata": {},
          "output_type": "execute_result"
        }
      ],
      "source": [
        "X_train.shape"
      ]
    },
    {
      "cell_type": "code",
      "execution_count": 33,
      "metadata": {
        "id": "XGrdwHvabQFy",
        "outputId": "2e55fb2c-7d3b-4ecc-eafa-4050859938b0"
      },
      "outputs": [
        {
          "data": {
            "text/plain": [
              "KNeighborsClassifier(n_neighbors=1)"
            ]
          },
          "execution_count": 33,
          "metadata": {},
          "output_type": "execute_result"
        }
      ],
      "source": [
        "nl = preprocessing.MinMaxScaler() # MinMax Scalar is chosen\n",
        "nl = nl.fit(dfX_train.to_numpy())\n",
        "X_train = nl.transform(dfX_train.to_numpy())\n",
        "knn = KNeighborsClassifier(n_neighbors=1) # k value of 1 is chosen\n",
        "knn = knn.fit(X_train, y_train)\n",
        "knn"
      ]
    },
    {
      "cell_type": "markdown",
      "metadata": {
        "id": "HroDw2EDbQFz"
      },
      "source": [
        "### Confusion Matrix"
      ]
    },
    {
      "cell_type": "code",
      "execution_count": 34,
      "metadata": {
        "id": "HDTVHRRebQF0",
        "outputId": "681abf75-7a27-4bcf-f626-602c832b30d1"
      },
      "outputs": [
        {
          "data": {
            "text/plain": [
              "array([[74, 46],\n",
              "       [40, 26]])"
            ]
          },
          "execution_count": 34,
          "metadata": {},
          "output_type": "execute_result"
        }
      ],
      "source": [
        "from sklearn.metrics import confusion_matrix\n",
        "confusion_matrix = confusion_matrix(sy_train, y_train)\n",
        "confusion_matrix"
      ]
    }
  ],
  "metadata": {
    "colab": {
      "provenance": []
    },
    "kernelspec": {
      "display_name": "Python 3 (ipykernel)",
      "language": "python",
      "name": "python3"
    },
    "language_info": {
      "codemirror_mode": {
        "name": "ipython",
        "version": 3
      },
      "file_extension": ".py",
      "mimetype": "text/x-python",
      "name": "python",
      "nbconvert_exporter": "python",
      "pygments_lexer": "ipython3",
      "version": "3.9.12"
    },
    "vscode": {
      "interpreter": {
        "hash": "40d3a090f54c6569ab1632332b64b2c03c39dcf918b08424e98f38b5ae0af88f"
      }
    }
  },
  "nbformat": 4,
  "nbformat_minor": 0
}
